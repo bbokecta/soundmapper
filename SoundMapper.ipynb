{
 "cells": [
  {
   "cell_type": "code",
   "execution_count": 4,
   "id": "7026816d-aedc-46e2-87d9-15ec9e4e5d85",
   "metadata": {},
   "outputs": [],
   "source": [
    "import spotipy\n",
    "import json\n",
    "import webbrowser\n",
    "import urllib.request\n",
    "import overpass\n",
    "import spotipy.util as util"
   ]
  },
  {
   "cell_type": "code",
   "execution_count": 22,
   "id": "807c0064-7dbc-4730-a3a7-df399e5ef628",
   "metadata": {},
   "outputs": [
    {
     "name": "stdout",
     "output_type": "stream",
     "text": [
      "{'type': 'node', 'id': 150980257, 'lat': 41.7062699, 'lon': -111.817638, 'tags': {'ele': '1401', 'gnis:feature_id': '1444657', 'name': 'Providence', 'place': 'village', 'population': '5540', 'population:date': '2006', 'source:population': 'US Census', 'wikidata': 'Q482412', 'wikipedia': 'en:Providence, Utah'}}\n"
     ]
    }
   ],
   "source": [
    "api = overpass.API(timeout=600)\n",
    "\n",
    "response = api.get('node[\"name\"=\"Providence\"]', responseformat=\"json\")\n",
    "print(response[\"elements\"][1])"
   ]
  },
  {
   "cell_type": "code",
   "execution_count": null,
   "id": "8a4b9530",
   "metadata": {},
   "outputs": [],
   "source": []
  }
 ],
 "metadata": {
  "kernelspec": {
   "display_name": "venv",
   "language": "python",
   "name": "python3"
  },
  "language_info": {
   "codemirror_mode": {
    "name": "ipython",
    "version": 3
   },
   "file_extension": ".py",
   "mimetype": "text/x-python",
   "name": "python",
   "nbconvert_exporter": "python",
   "pygments_lexer": "ipython3",
   "version": "3.12.7"
  }
 },
 "nbformat": 4,
 "nbformat_minor": 5
}
