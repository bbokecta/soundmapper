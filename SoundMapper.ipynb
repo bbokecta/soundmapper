{
 "cells": [
  {
   "cell_type": "code",
   "execution_count": 1,
   "id": "7026816d-aedc-46e2-87d9-15ec9e4e5d85",
   "metadata": {},
   "outputs": [],
   "source": [
    "import spotipy\n",
    "import json\n",
    "import webbrowser\n",
    "import urllib.request\n",
    "import spotipy.util as util\n",
    "import pygeohash as pgh"
   ]
  },
  {
   "cell_type": "code",
   "execution_count": 2,
   "id": "dd2eb127",
   "metadata": {},
   "outputs": [],
   "source": [
    "with open(\"geocode_keys.txt\", \"r\") as geokey_file:\n",
    "    geo_key = geokey_file.read()"
   ]
  },
  {
   "cell_type": "code",
   "execution_count": 3,
   "id": "807c0064-7dbc-4730-a3a7-df399e5ef628",
   "metadata": {},
   "outputs": [
    {
     "name": "stdout",
     "output_type": "stream",
     "text": [
      "['gcpuv', 'gcpvt']\n"
     ]
    }
   ],
   "source": [
    "address1 = input(\"Enter starting address or postcode:\")\n",
    "address2 = input(\"Enter ending address or postcode:\")\n",
    "\n",
    "addresses = [address1, address2]\n",
    "\n",
    "#cleaning up any spaces or commas in the inputted addresses\n",
    "new_addresses = [address\n",
    "                    .replace(\",\", \"\")\n",
    "                    .replace(\" \", \"+\") for address in addresses]\n",
    "\n",
    "\n",
    "#getting the geoPoints for the two addresses\n",
    "hash_list = []\n",
    "\n",
    "for new_address in new_addresses:\n",
    "    map_url = f\"https://geocode.maps.co/search?q={new_address}&api_key={geo_key}\"\n",
    "\n",
    "    map_request = urllib.request.Request(map_url)\n",
    "    map_response = urllib.request.urlopen(map_request)\n",
    "\n",
    "    map_data = json.loads(map_response.read())\n",
    "    lat = map_data[0]['lat']\n",
    "    lon = map_data[0]['lon']\n",
    "\n",
    "    hash_list.append(pgh.encode(float(lat), float(lon), precision=5))\n",
    "\n",
    "print(hash_list)\n"
   ]
  },
  {
   "cell_type": "code",
   "execution_count": 4,
   "id": "8a4b9530",
   "metadata": {},
   "outputs": [],
   "source": [
    "with open(\"ticketmaster_keys.txt\", \"r\") as key_file:\n",
    "    ticketmaster_key = key_file.read()\n",
    "\n",
    "with open(\"genreIDs.json\", \"r\") as genreID_file:\n",
    "    genre_list = json.loads(genreID_file.read())"
   ]
  },
  {
   "cell_type": "code",
   "execution_count": 5,
   "id": "817498db",
   "metadata": {},
   "outputs": [],
   "source": [
    "#asking the user to select a genre\n",
    "unit = \"km\"\n",
    "user_genre = str(input(\"Enter a genre IN LOWERCASE (choose from Rock, Pop, Electronic, Classical, Rap, or Country):\"))\n",
    "genreID = genre_list[user_genre]\n",
    "\n",
    "#making a function to request ticketmaster's API, using the user's geoPoints + selected genre\n",
    "def get_all_events(radius):\n",
    "\n",
    "    events_both_places = {}\n",
    "    \n",
    "    for hash in hash_list:\n",
    "        url = f\"https://app.ticketmaster.com/discovery/v2/events.json?size=20&radius={radius}&genreId={genreID}&geoPoint={hash}&classificationName=music&apikey={ticketmaster_key}\"\n",
    "\n",
    "        tm_request = urllib.request.Request(url)\n",
    "        tm_response = urllib.request.urlopen(tm_request)\n",
    "\n",
    "    events_both_places.update(json.loads(tm_response.read()))\n",
    "\n",
    "    print(events_both_places)\n",
    "    return events_both_places\n",
    "  \n"
   ]
  },
  {
   "cell_type": "code",
   "execution_count": 6,
   "id": "df049e6a",
   "metadata": {},
   "outputs": [
    {
     "name": "stdout",
     "output_type": "stream",
     "text": [
      "{'_links': {'self': {'href': '/discovery/v2/events.json?genreId=KnvZfZ7v7nJ&size=20&classificationName=music&geoPoint=gcpvt&radius=10'}}, 'page': {'size': 20, 'totalElements': 0, 'totalPages': 0, 'number': 0}}\n",
      "{'_links': {'self': {'href': '/discovery/v2/events.json?genreId=KnvZfZ7v7nJ&size=20&classificationName=music&geoPoint=gcpvt&radius=20'}}, 'page': {'size': 20, 'totalElements': 0, 'totalPages': 0, 'number': 0}}\n",
      "{'_links': {'self': {'href': '/discovery/v2/events.json?genreId=KnvZfZ7v7nJ&size=20&classificationName=music&geoPoint=gcpvt&radius=40'}}, 'page': {'size': 20, 'totalElements': 0, 'totalPages': 0, 'number': 0}}\n",
      "{'_links': {'self': {'href': '/discovery/v2/events.json?genreId=KnvZfZ7v7nJ&size=20&classificationName=music&geoPoint=gcpvt&radius=80'}}, 'page': {'size': 20, 'totalElements': 0, 'totalPages': 0, 'number': 0}}\n",
      "{'_embedded': {'events': [{'name': 'Sheffield International Concert Season 2024/25 - Black Dyke Band', 'type': 'event', 'id': '1AgZke8GkewbxW0', 'test': False, 'url': 'https://www.ticketmaster.co.uk/sheffield-international-concert-season-202425-black-sheffield-14-12-2024/event/35006090B2622F64', 'locale': 'en-us', 'images': [{'ratio': '16_9', 'url': 'https://s1.ticketm.net/dam/a/02b/ef948cc1-d32b-4a24-97ba-5f33816b702b_SOURCE', 'width': 2426, 'height': 1365, 'fallback': False}, {'ratio': '16_9', 'url': 'https://s1.ticketm.net/dam/a/02b/ef948cc1-d32b-4a24-97ba-5f33816b702b_TABLET_LANDSCAPE_16_9.jpg', 'width': 1024, 'height': 576, 'fallback': False}, {'ratio': '16_9', 'url': 'https://s1.ticketm.net/dam/a/02b/ef948cc1-d32b-4a24-97ba-5f33816b702b_RECOMENDATION_16_9.jpg', 'width': 100, 'height': 56, 'fallback': False}, {'ratio': '4_3', 'url': 'https://s1.ticketm.net/dam/a/02b/ef948cc1-d32b-4a24-97ba-5f33816b702b_CUSTOM.jpg', 'width': 305, 'height': 225, 'fallback': False}, {'ratio': '3_2', 'url': 'https://s1.ticketm.net/dam/a/02b/ef948cc1-d32b-4a24-97ba-5f33816b702b_TABLET_LANDSCAPE_3_2.jpg', 'width': 1024, 'height': 683, 'fallback': False}, {'ratio': '3_2', 'url': 'https://s1.ticketm.net/dam/a/02b/ef948cc1-d32b-4a24-97ba-5f33816b702b_ARTIST_PAGE_3_2.jpg', 'width': 305, 'height': 203, 'fallback': False}, {'ratio': '16_9', 'url': 'https://s1.ticketm.net/dam/a/02b/ef948cc1-d32b-4a24-97ba-5f33816b702b_EVENT_DETAIL_PAGE_16_9.jpg', 'width': 205, 'height': 115, 'fallback': False}, {'ratio': '16_9', 'url': 'https://s1.ticketm.net/dam/a/02b/ef948cc1-d32b-4a24-97ba-5f33816b702b_RETINA_LANDSCAPE_16_9.jpg', 'width': 1136, 'height': 639, 'fallback': False}, {'ratio': '16_9', 'url': 'https://s1.ticketm.net/dam/a/02b/ef948cc1-d32b-4a24-97ba-5f33816b702b_RETINA_PORTRAIT_16_9.jpg', 'width': 640, 'height': 360, 'fallback': False}, {'ratio': '3_2', 'url': 'https://s1.ticketm.net/dam/a/02b/ef948cc1-d32b-4a24-97ba-5f33816b702b_RETINA_PORTRAIT_3_2.jpg', 'width': 640, 'height': 427, 'fallback': False}, {'ratio': '16_9', 'url': 'https://s1.ticketm.net/dam/a/02b/ef948cc1-d32b-4a24-97ba-5f33816b702b_TABLET_LANDSCAPE_LARGE_16_9.jpg', 'width': 2048, 'height': 1152, 'fallback': False}], 'distance': 134.87, 'units': 'MILES', 'sales': {'public': {'startDateTime': '2024-05-18T09:00:00Z', 'startTBD': False, 'startTBA': False, 'endDateTime': '2024-12-14T14:30:00Z'}}, 'dates': {'start': {'localDate': '2024-12-14', 'localTime': '14:30:00', 'dateTime': '2024-12-14T14:30:00Z', 'dateTBD': False, 'dateTBA': False, 'timeTBA': False, 'noSpecificTime': False}, 'timezone': 'Europe/London', 'status': {'code': 'onsale'}, 'spanMultipleDays': False}, 'classifications': [{'primary': True, 'segment': {'id': 'KZFzniwnSyZfZ7v7na', 'name': 'Arts & Theatre'}, 'genre': {'id': 'KnvZfZ7v7nJ', 'name': 'Classical'}, 'subGenre': {'id': 'KZazBEonSMnZfZ7v7nI', 'name': 'Symphonic'}, 'type': {'id': 'KZAyXgnZfZ7v7nI', 'name': 'Undefined'}, 'subType': {'id': 'KZFzBErXgnZfZ7v7lJ', 'name': 'Undefined'}, 'family': False}], 'promoter': {'id': '5183', 'name': 'SHEFFIELD CITY TRUST', 'description': 'SHEFFIELD CITY TRUST / NTL / GBR'}, 'promoters': [{'id': '5183', 'name': 'SHEFFIELD CITY TRUST', 'description': 'SHEFFIELD CITY TRUST / NTL / GBR'}], 'pleaseNote': 'Babies in arms (ages 0-2) are not admitted into the auditorium. All persons aged 14 and under must have a valid ticket and be accompanied by an adult over 18. For customers buying stalls tickets, please note that Stalls seating is not tiered and customers may stand during the performance. Standing will NOT be permitted in the Circle or Balcony, due to Health & Safety reasons. Patrons who therefore do not wish to stand during seated concerts need to book tickets in this area.', 'priceRanges': [{'type': 'standard including fees', 'currency': 'GBP', 'min': 22.95, 'max': 32.5}, {'type': 'standard', 'currency': 'GBP', 'min': 19.5, 'max': 27.0}], 'seatmap': {'staticUrl': 'https://s1.ticketm.net/uk/tmimages/venue/maps/uk1/19214s.gif', 'id': 'seatmap'}, 'accessibility': {'info': 'Wheelchair positions are for wheelchair users, accessible positions are for patrons with disabilities/conditions that are unable to use general area Seating/Standing but do not require a specific wheelchair space.\\r\\n\\r\\nPlease contact the venue accessible team on 01142 56 55 93 to arrange tickets that suit your individual access requirements, including accommodations for Assistance Dogs, visual or hearing impairments, BSL Interpreter and other specific needs.\\r\\n\\r\\nYou can also get in touch via Accessteam@utilitaarenasheffield.co.uk\\r\\n\\r\\nFor Accessible information please click', 'ticketLimit': 8, 'url': 'https://www.utilitaarenasheffield.co.uk/plan-your-visit/accessibility', 'urlText': 'here', 'id': 'accessibility'}, 'ageRestrictions': {'legalAgeEnforced': False, 'id': 'ageRestrictions'}, 'ticketing': {'safeTix': {'enabled': True, 'inAppOnlyEnabled': False}, 'allInclusivePricing': {'enabled': False}, 'id': 'ticketing'}, '_links': {'self': {'href': '/discovery/v2/events/1AgZke8GkewbxW0?locale=en-us'}, 'attractions': [{'href': '/discovery/v2/attractions/K8vZ917_OMV?locale=en-us'}, {'href': '/discovery/v2/attractions/K8vZ917GOg0?locale=en-us'}], 'venues': [{'href': '/discovery/v2/venues/KovZ91770_V?locale=en-de'}]}, '_embedded': {'venues': [{'name': 'Sheffield City Hall Oval Hall', 'type': 'venue', 'id': 'KovZ91770_V', 'test': False, 'url': 'https://www.ticketmaster.co.uk/sheffield-city-hall-oval-hall-tickets-sheffield/venue/435512', 'locale': 'en-de', 'images': [{'ratio': '16_9', 'url': 'https://s1.ticketm.net/uk/dbimages/2531v.jpg', 'width': 205, 'height': 115, 'fallback': False}], 'distance': 134.87, 'units': 'MILES', 'postalCode': 'S1 2JA', 'timezone': 'Europe/London', 'city': {'name': 'Sheffield'}, 'country': {'name': 'Great Britain', 'countryCode': 'GB'}, 'address': {'line1': 'Barkers Pool'}, 'location': {'longitude': '-1.471079', 'latitude': '53.38118'}, 'markets': [{'name': 'All of United Kingdom', 'id': '201'}, {'name': 'North and North East', 'id': '206'}], 'dmas': [{'id': 601}, {'id': 606}], 'boxOfficeInfo': {'phoneNumberDetail': '01142 789789', 'openHoursDetail': 'Mon - Fri: 10:00am - 4:00pm The Box Office will be open for an event including weekends- please check our website for details - https://www.sheffieldcityhall.co.uk/', 'acceptedPaymentDetail': 'Cash, card & cheque.'}, 'parkingDetail': 'There is no onsite parking for City Hall, however there are numerous multi-storey and open car parks within easy walking distance.', 'accessibleSeatingDetail': 'There is restricted wheelchair access within the building, please contact the venue for further information. Infra-red system available.', 'generalInfo': {'generalRule': 'No Cameras No Video or Audio recording devices. No backpacks. No cans/glass bottles. No Food.', 'childRule': 'Age restrictions differ from show to show.'}, 'upcomingEvents': {'archtics': 26, 'ticketmaster': 123, '_total': 149, '_filtered': 0}, 'ada': {'adaPhones': '0114 256 5593\\n\\nAccessteam@utilitaarenasheffield.co.uk  \\n', 'adaCustomCopy': 'Wheelchair positions are for wheelchair users, accessible positions are for patrons with disabilities/conditions that are unable to use general area Seating/Standing but do not require a specific wheelchair space.\\n \\nPlease contact the venue accessible team on 01142 56 55 93 to arrange tickets that suit your individual access requirements, including accommodations for Assistance Dogs, visual or hearing impairments, BSL Interpreter and other specific needs.\\n \\nYou can also get in touch via Accessteam@utilitaarenasheffield.co.uk  \\n', 'adaHours': 'Mon-Fri 10am-4pm'}, '_links': {'self': {'href': '/discovery/v2/venues/KovZ91770_V?locale=en-de'}}}], 'attractions': [{'name': 'Sheffield International Concert Season', 'type': 'attraction', 'id': 'K8vZ917_OMV', 'test': False, 'url': 'https://www.ticketmaster.com/sheffield-international-concert-season-tickets/artist/2808259', 'locale': 'en-us', 'images': [{'ratio': '3_2', 'url': 'https://s1.ticketm.net/dam/a/02b/ef948cc1-d32b-4a24-97ba-5f33816b702b_TABLET_LANDSCAPE_3_2.jpg', 'width': 1024, 'height': 683, 'fallback': False}, {'ratio': '3_2', 'url': 'https://s1.ticketm.net/dam/a/02b/ef948cc1-d32b-4a24-97ba-5f33816b702b_ARTIST_PAGE_3_2.jpg', 'width': 305, 'height': 203, 'fallback': False}, {'ratio': '16_9', 'url': 'https://s1.ticketm.net/dam/a/02b/ef948cc1-d32b-4a24-97ba-5f33816b702b_SOURCE', 'width': 2426, 'height': 1365, 'fallback': False}, {'ratio': '16_9', 'url': 'https://s1.ticketm.net/dam/a/02b/ef948cc1-d32b-4a24-97ba-5f33816b702b_TABLET_LANDSCAPE_16_9.jpg', 'width': 1024, 'height': 576, 'fallback': False}, {'ratio': '16_9', 'url': 'https://s1.ticketm.net/dam/a/02b/ef948cc1-d32b-4a24-97ba-5f33816b702b_EVENT_DETAIL_PAGE_16_9.jpg', 'width': 205, 'height': 115, 'fallback': False}, {'ratio': '16_9', 'url': 'https://s1.ticketm.net/dam/a/02b/ef948cc1-d32b-4a24-97ba-5f33816b702b_RECOMENDATION_16_9.jpg', 'width': 100, 'height': 56, 'fallback': False}, {'ratio': '16_9', 'url': 'https://s1.ticketm.net/dam/a/02b/ef948cc1-d32b-4a24-97ba-5f33816b702b_RETINA_LANDSCAPE_16_9.jpg', 'width': 1136, 'height': 639, 'fallback': False}, {'ratio': '4_3', 'url': 'https://s1.ticketm.net/dam/a/02b/ef948cc1-d32b-4a24-97ba-5f33816b702b_CUSTOM.jpg', 'width': 305, 'height': 225, 'fallback': False}, {'ratio': '16_9', 'url': 'https://s1.ticketm.net/dam/a/02b/ef948cc1-d32b-4a24-97ba-5f33816b702b_RETINA_PORTRAIT_16_9.jpg', 'width': 640, 'height': 360, 'fallback': False}, {'ratio': '3_2', 'url': 'https://s1.ticketm.net/dam/a/02b/ef948cc1-d32b-4a24-97ba-5f33816b702b_RETINA_PORTRAIT_3_2.jpg', 'width': 640, 'height': 427, 'fallback': False}, {'ratio': '16_9', 'url': 'https://s1.ticketm.net/dam/a/02b/ef948cc1-d32b-4a24-97ba-5f33816b702b_TABLET_LANDSCAPE_LARGE_16_9.jpg', 'width': 2048, 'height': 1152, 'fallback': False}], 'classifications': [{'primary': True, 'segment': {'id': 'KZFzniwnSyZfZ7v7na', 'name': 'Arts & Theatre'}, 'genre': {'id': 'KnvZfZ7v7nJ', 'name': 'Classical'}, 'subGenre': {'id': 'KZazBEonSMnZfZ7v7nI', 'name': 'Symphonic'}, 'type': {'id': 'KZAyXgnZfZ7v7lt', 'name': 'Event Style'}, 'subType': {'id': 'KZFzBErXgnZfZ7vA6J', 'name': 'Concert'}, 'family': False}], 'upcomingEvents': {'ticketmaster': 11, '_total': 11, '_filtered': 0}, '_links': {'self': {'href': '/discovery/v2/attractions/K8vZ917_OMV?locale=en-us'}}}, {'name': 'Black Dyke Band', 'type': 'attraction', 'id': 'K8vZ917GOg0', 'test': False, 'url': 'https://www.ticketmaster.com/black-dyke-band-tickets/artist/1410825', 'locale': 'en-us', 'externalLinks': {'wiki': [{'url': 'https://en.wikipedia.org/wiki/Black_Dyke_Band'}], 'musicbrainz': [{'id': '307bf9ce-018c-457d-aa33-f1c11b67858b'}], 'homepage': [{'url': 'http://www.blackdykeband.co.uk/'}, {'url': 'http://www.blackdykefanclub.co.uk/'}]}, 'images': [{'ratio': '3_2', 'url': 'https://s1.ticketm.net/dam/c/ab4/6367448e-7474-4650-bd2d-02a8f7166ab4_106161_RETINA_PORTRAIT_3_2.jpg', 'width': 640, 'height': 427, 'fallback': True}, {'ratio': '16_9', 'url': 'https://s1.ticketm.net/dam/c/ab4/6367448e-7474-4650-bd2d-02a8f7166ab4_106161_RECOMENDATION_16_9.jpg', 'width': 100, 'height': 56, 'fallback': True}, {'ratio': '16_9', 'url': 'https://s1.ticketm.net/dam/c/ab4/6367448e-7474-4650-bd2d-02a8f7166ab4_106161_RETINA_PORTRAIT_16_9.jpg', 'width': 640, 'height': 360, 'fallback': True}, {'ratio': '3_2', 'url': 'https://s1.ticketm.net/dam/c/ab4/6367448e-7474-4650-bd2d-02a8f7166ab4_106161_ARTIST_PAGE_3_2.jpg', 'width': 305, 'height': 203, 'fallback': True}, {'ratio': '16_9', 'url': 'https://s1.ticketm.net/dam/c/ab4/6367448e-7474-4650-bd2d-02a8f7166ab4_106161_TABLET_LANDSCAPE_16_9.jpg', 'width': 1024, 'height': 576, 'fallback': True}, {'ratio': '3_2', 'url': 'https://s1.ticketm.net/dam/c/ab4/6367448e-7474-4650-bd2d-02a8f7166ab4_106161_TABLET_LANDSCAPE_3_2.jpg', 'width': 1024, 'height': 683, 'fallback': True}, {'ratio': '16_9', 'url': 'https://s1.ticketm.net/dam/c/ab4/6367448e-7474-4650-bd2d-02a8f7166ab4_106161_EVENT_DETAIL_PAGE_16_9.jpg', 'width': 205, 'height': 115, 'fallback': True}, {'ratio': '16_9', 'url': 'https://s1.ticketm.net/dam/c/ab4/6367448e-7474-4650-bd2d-02a8f7166ab4_106161_RETINA_LANDSCAPE_16_9.jpg', 'width': 1136, 'height': 639, 'fallback': True}, {'ratio': '16_9', 'url': 'https://s1.ticketm.net/dam/c/ab4/6367448e-7474-4650-bd2d-02a8f7166ab4_106161_TABLET_LANDSCAPE_LARGE_16_9.jpg', 'width': 2048, 'height': 1152, 'fallback': True}, {'ratio': '4_3', 'url': 'https://s1.ticketm.net/dam/c/ab4/6367448e-7474-4650-bd2d-02a8f7166ab4_106161_CUSTOM.jpg', 'width': 305, 'height': 225, 'fallback': True}], 'classifications': [{'primary': True, 'segment': {'id': 'KZFzniwnSyZfZ7v7nJ', 'name': 'Music'}, 'genre': {'id': 'KnvZfZ7vAe6', 'name': 'Undefined'}, 'subGenre': {'id': 'KZazBEonSMnZfZ7v6JI', 'name': 'Undefined'}, 'type': {'id': 'KZAyXgnZfZ7v7nI', 'name': 'Undefined'}, 'subType': {'id': 'KZFzBErXgnZfZ7v7lJ', 'name': 'Undefined'}, 'family': False}], 'upcomingEvents': {'ticketmaster': 1, '_total': 1, '_filtered': 0}, '_links': {'self': {'href': '/discovery/v2/attractions/K8vZ917GOg0?locale=en-us'}}}]}}]}, '_links': {'self': {'href': '/discovery/v2/events.json?genreId=KnvZfZ7v7nJ&size=20&classificationName=music&geoPoint=gcpvt&radius=160'}}, 'page': {'size': 20, 'totalElements': 1, 'totalPages': 1, 'number': 0}}\n"
     ]
    }
   ],
   "source": [
    "#running the get_all_events function & increasing radius the until there are at least 3 musical events returned to us\n",
    "all_events = {}\n",
    "radius = 10\n",
    "all_events.update(get_all_events(radius))\n",
    "\n",
    "while len(all_events) < 3:\n",
    "    radius *= 2\n",
    "    all_events.update(get_all_events(radius))\n",
    "\n",
    "#getting the names of each event's musician\n",
    "event_names = all_events['_embedded']['events']\n",
    "\n",
    "artist_names = [artist['name'] for artist in event_names]\n",
    "artist_names_no_repeats = list(dict.fromkeys(artist_names))\n"
   ]
  },
  {
   "cell_type": "code",
   "execution_count": 7,
   "id": "c205eb39",
   "metadata": {},
   "outputs": [],
   "source": [
    "#getting into spotify heheheheh\n",
    "cred = \"spotify_keys.json\"\n",
    "with open(cred, \"r\") as spotify_key_file:\n",
    "    api_tokens = json.load(spotify_key_file)\n",
    "\n",
    "spotify_key_file.close()\n",
    "\n",
    "client_id = api_tokens['client_id']\n",
    "client_secret = api_tokens['client_secret']\n",
    "redirectURI = api_tokens['redirect']\n",
    "username = api_tokens['username']\n",
    "\n",
    "scope = 'user-read-private user-read-playback-state user-modify-playback-state playlist-modify-public user-library-read'\n",
    "token = util.prompt_for_user_token(username, scope, client_id=client_id,\n",
    "                           client_secret=client_secret,\n",
    "                           redirect_uri=redirectURI)"
   ]
  },
  {
   "cell_type": "code",
   "execution_count": 8,
   "id": "c4cf134c",
   "metadata": {},
   "outputs": [],
   "source": [
    "sp = spotipy.Spotify(auth=token)\n",
    "\n",
    "#making a list of songs from each musician in the returned events\n",
    "playlist_songs = []\n",
    "\n",
    "for artist in artist_names_no_repeats:\n",
    "    returned_song = sp.search(q=artist, type=\"track\", limit=1)\n",
    "\n",
    "    if returned_song['tracks']['items'][0]['uri'] not in playlist_songs: #avoiding duplicate songs\n",
    "        playlist_songs.append(returned_song['tracks']['items'][0]['uri'])\n",
    "\n",
    "genre_name = list(genre_list.keys())[list(genre_list.values()).index(genreID)]\n",
    "\n",
    "#adding each song to the playlist\n",
    "empty_playlist = sp.user_playlist_create(user=username, name=f\"Journey from {address1.upper()} to {address2.upper()}\", public=True, description=f\"{genre_name} artists who've played recently anywhere within a {radius} {unit} radius of {address1.upper()} and {address2.upper()}\")\n",
    "full_playlist = sp.user_playlist_add_tracks(username, empty_playlist['id'], playlist_songs)"
   ]
  },
  {
   "cell_type": "code",
   "execution_count": 9,
   "id": "7a40a875",
   "metadata": {},
   "outputs": [
    {
     "data": {
      "text/plain": [
       "True"
      ]
     },
     "execution_count": 9,
     "metadata": {},
     "output_type": "execute_result"
    }
   ],
   "source": [
    "webbrowser.open(empty_playlist['external_urls']['spotify'])"
   ]
  },
  {
   "cell_type": "code",
   "execution_count": null,
   "id": "cac9eb60",
   "metadata": {},
   "outputs": [],
   "source": []
  }
 ],
 "metadata": {
  "kernelspec": {
   "display_name": "venv",
   "language": "python",
   "name": "python3"
  },
  "language_info": {
   "codemirror_mode": {
    "name": "ipython",
    "version": 3
   },
   "file_extension": ".py",
   "mimetype": "text/x-python",
   "name": "python",
   "nbconvert_exporter": "python",
   "pygments_lexer": "ipython3",
   "version": "3.12.7"
  }
 },
 "nbformat": 4,
 "nbformat_minor": 5
}
