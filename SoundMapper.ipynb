{
 "cells": [
  {
   "cell_type": "code",
   "execution_count": 60,
   "id": "7026816d-aedc-46e2-87d9-15ec9e4e5d85",
   "metadata": {},
   "outputs": [],
   "source": [
    "import spotipy\n",
    "import json\n",
    "import webbrowser\n",
    "import urllib.request\n",
    "import overpass\n",
    "import spotipy.util as util\n",
    "import geohash\n",
    "import pygeohash as pgh"
   ]
  },
  {
   "cell_type": "code",
   "execution_count": 61,
   "id": "dd2eb127",
   "metadata": {},
   "outputs": [],
   "source": [
    "with open(\"geocode_keys.txt\", \"r\") as geokey_file:\n",
    "    geo_key = geokey_file.read()"
   ]
  },
  {
   "cell_type": "code",
   "execution_count": 96,
   "id": "807c0064-7dbc-4730-a3a7-df399e5ef628",
   "metadata": {},
   "outputs": [
    {
     "name": "stdout",
     "output_type": "stream",
     "text": [
      "41.8256933 -71.3926077\n"
     ]
    }
   ],
   "source": [
    "address1 = \"15 Elm St, Totowa, NJ, 07512, US\"\n",
    "address2 = \"39 E George St, Providence, RI 02906, US\"\n",
    "\n",
    "nospace_address1 = (\n",
    "    address1\n",
    "        .replace(\",\", \"\")\n",
    "        .replace(\" \", \"+\")\n",
    ")\n",
    "\n",
    "nospace_address2 = (\n",
    "    address2\n",
    "        .replace(\",\", \"\")\n",
    "        .replace(\" \", \"+\")\n",
    ")\n",
    "\n",
    "# print(nospace_address1, nospace_address2)\n",
    "\n",
    "map_url = f\"https://geocode.maps.co/search?q={nospace_address2}&api_key={geo_key}\"\n",
    "\n",
    "map_request = urllib.request.Request(map_url)\n",
    "map_response = urllib.request.urlopen(map_request)\n",
    "\n",
    "map_data = json.loads(map_response.read())\n",
    "lat = map_data[0]['lat']\n",
    "lon = map_data[0]['lon']\n",
    "print(lat, lon)"
   ]
  },
  {
   "cell_type": "code",
   "execution_count": 97,
   "id": "d9a68abc",
   "metadata": {},
   "outputs": [
    {
     "name": "stdout",
     "output_type": "stream",
     "text": [
      "drmjz\n"
     ]
    }
   ],
   "source": [
    "test_hash = pgh.encode(float(lat), float(lon), precision=5)\n",
    "print(test_hash)"
   ]
  },
  {
   "cell_type": "code",
   "execution_count": null,
   "id": "8a4b9530",
   "metadata": {},
   "outputs": [
    {
     "name": "stdout",
     "output_type": "stream",
     "text": [
      "KnvZfZ7vAv1\n"
     ]
    }
   ],
   "source": [
    "with open(\"ticketmaster_keys.txt\", \"r\") as key_file:\n",
    "    ticketmaster_key = key_file.read()\n",
    "\n",
    "with open(\"genreIDs.json\", \"r\") as genreID_file:\n",
    "    genre_list = json.loads(genreID_file.read())\n",
    "\n",
    "# print(genre_list['rap'])"
   ]
  },
  {
   "cell_type": "code",
   "execution_count": 98,
   "id": "817498db",
   "metadata": {},
   "outputs": [
    {
     "name": "stdout",
     "output_type": "stream",
     "text": [
      "2\n"
     ]
    }
   ],
   "source": [
    "geohash = \"gcpuv\"\n",
    "unit = \"km\"\n",
    "radius = 10\n",
    "genre = genre_list['electronic']\n",
    "url = f\"https://app.ticketmaster.com/discovery/v2/events.json?size=20&radius={radius}&genreId={genre}&geoPoint={test_hash}&classificationName=music&apikey={ticketmaster_key}\"\n",
    "\n",
    "tm_request = urllib.request.Request(url)\n",
    "tm_response = urllib.request.urlopen(tm_request)\n",
    "\n",
    "full_event_listings = json.loads(tm_response.read())\n",
    "event_names = full_event_listings['_embedded']['events']\n",
    "\n",
    "print(len(event_names))\n"
   ]
  },
  {
   "cell_type": "code",
   "execution_count": 99,
   "id": "df049e6a",
   "metadata": {},
   "outputs": [
    {
     "name": "stdout",
     "output_type": "stream",
     "text": [
      "['Tim Dahl, Makoto Kawabata, Harpy, Dull Care', 'Tightmare Before Christmas']\n"
     ]
    }
   ],
   "source": [
    "# if len(event_names) < 5:\n",
    "#     radius*2\n",
    "#     full_event_listings = json.loads(tm_response.read())\n",
    "\n",
    "artist_names = [artist['name'] for artist in event_names]\n",
    "artist_names_no_repeats = list(dict.fromkeys(artist_names))\n",
    "\n",
    "print(artist_names_no_repeats)"
   ]
  },
  {
   "cell_type": "code",
   "execution_count": 67,
   "id": "c205eb39",
   "metadata": {},
   "outputs": [],
   "source": [
    "cred = \"spotify_keys.json\"\n",
    "with open(cred, \"r\") as spotify_key_file:\n",
    "    api_tokens = json.load(spotify_key_file)\n",
    "\n",
    "spotify_key_file.close()\n",
    "\n",
    "client_id = api_tokens['client_id']\n",
    "client_secret = api_tokens['client_secret']\n",
    "redirectURI = api_tokens['redirect']\n",
    "username = api_tokens['username']\n",
    "\n",
    "scope = 'user-read-private user-read-playback-state user-modify-playback-state playlist-modify-public user-library-read'\n",
    "token = util.prompt_for_user_token(username, scope, client_id=client_id,\n",
    "                           client_secret=client_secret,\n",
    "                           redirect_uri=redirectURI)"
   ]
  },
  {
   "cell_type": "code",
   "execution_count": null,
   "id": "c4cf134c",
   "metadata": {},
   "outputs": [],
   "source": [
    "sp = spotipy.Spotify(auth=token)\n",
    "\n",
    "playlist_songs = []\n",
    "\n",
    "for artist in artist_names_no_repeats:\n",
    "    returned_song = sp.search(q=artist, type=\"track\", limit=1)\n",
    "\n",
    "    if returned_song['tracks']['items'][0]['uri'] not in playlist_songs:\n",
    "        playlist_songs.append(returned_song['tracks']['items'][0]['uri'])\n",
    "\n",
    "# print(playlist_songs)\n",
    "\n",
    "empty_playlist = sp.user_playlist_create(user=username, name=f\"What's on in {address1.upper()}\", public=True, description=f\"songs from {genre} artists who have played live within a {radius+unit} radius of {address1.upper()}\")\n",
    "full_playlist = sp.user_playlist_add_tracks(username, empty_playlist['id'], playlist_songs)"
   ]
  },
  {
   "cell_type": "code",
   "execution_count": 69,
   "id": "7a40a875",
   "metadata": {},
   "outputs": [
    {
     "data": {
      "text/plain": [
       "True"
      ]
     },
     "execution_count": 69,
     "metadata": {},
     "output_type": "execute_result"
    }
   ],
   "source": [
    "webbrowser.open(empty_playlist['external_urls']['spotify'])"
   ]
  },
  {
   "cell_type": "code",
   "execution_count": null,
   "id": "cac9eb60",
   "metadata": {},
   "outputs": [],
   "source": []
  }
 ],
 "metadata": {
  "kernelspec": {
   "display_name": "venv",
   "language": "python",
   "name": "python3"
  },
  "language_info": {
   "codemirror_mode": {
    "name": "ipython",
    "version": 3
   },
   "file_extension": ".py",
   "mimetype": "text/x-python",
   "name": "python",
   "nbconvert_exporter": "python",
   "pygments_lexer": "ipython3",
   "version": "3.12.7"
  }
 },
 "nbformat": 4,
 "nbformat_minor": 5
}
