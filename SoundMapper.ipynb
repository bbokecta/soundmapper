{
 "cells": [
  {
   "cell_type": "code",
   "execution_count": 1,
   "id": "7026816d-aedc-46e2-87d9-15ec9e4e5d85",
   "metadata": {},
   "outputs": [],
   "source": [
    "import spotipy\n",
    "import json\n",
    "import webbrowser\n",
    "import urllib.request\n",
    "import spotipy.util as util\n",
    "import pygeohash as pgh"
   ]
  },
  {
   "cell_type": "code",
   "execution_count": 2,
   "id": "dd2eb127",
   "metadata": {},
   "outputs": [],
   "source": [
    "with open(\"geocode_keys.txt\", \"r\") as geokey_file:\n",
    "    geo_key = geokey_file.read()"
   ]
  },
  {
   "cell_type": "code",
   "execution_count": 3,
   "id": "807c0064-7dbc-4730-a3a7-df399e5ef628",
   "metadata": {},
   "outputs": [
    {
     "name": "stdout",
     "output_type": "stream",
     "text": [
      "['dr70z', 'drmjz']\n"
     ]
    }
   ],
   "source": [
    "address1 = \"15 Elm St, Totowa, NJ, 07512, US\"\n",
    "address2 = \"39 E George St, Providence, RI 02906, US\"\n",
    "\n",
    "addresses = [address1, address2]\n",
    "new_addresses = [address\n",
    "                    .replace(\",\", \"\")\n",
    "                    .replace(\" \", \"+\") for address in addresses]\n",
    "\n",
    "# print(new_addresses)\n",
    "\n",
    "lat_list = []\n",
    "lon_list = []\n",
    "hash_list = []\n",
    "\n",
    "for new_address in new_addresses:\n",
    "    map_url = f\"https://geocode.maps.co/search?q={new_address}&api_key={geo_key}\"\n",
    "\n",
    "    map_request = urllib.request.Request(map_url)\n",
    "    map_response = urllib.request.urlopen(map_request)\n",
    "\n",
    "    map_data = json.loads(map_response.read())\n",
    "    lat = map_data[0]['lat']\n",
    "    lon = map_data[0]['lon']\n",
    "\n",
    "    # lat_list.append(lat)\n",
    "    # lon_list.append(lon)\n",
    "\n",
    "    hash_list.append(pgh.encode(float(lat), float(lon), precision=5))\n",
    "\n",
    "print(hash_list)\n"
   ]
  },
  {
   "cell_type": "code",
   "execution_count": 4,
   "id": "d9a68abc",
   "metadata": {},
   "outputs": [],
   "source": [
    "# test_hash = pgh.encode(float(lat), float(lon), precision=5)\n",
    "# print(test_hash)"
   ]
  },
  {
   "cell_type": "code",
   "execution_count": 5,
   "id": "8a4b9530",
   "metadata": {},
   "outputs": [],
   "source": [
    "with open(\"ticketmaster_keys.txt\", \"r\") as key_file:\n",
    "    ticketmaster_key = key_file.read()\n",
    "\n",
    "with open(\"genreIDs.json\", \"r\") as genreID_file:\n",
    "    genre_list = json.loads(genreID_file.read())\n",
    "\n",
    "# print(genre_list['rap'])"
   ]
  },
  {
   "cell_type": "code",
   "execution_count": 6,
   "id": "817498db",
   "metadata": {},
   "outputs": [
    {
     "name": "stdout",
     "output_type": "stream",
     "text": [
      "[{'name': 'KANE BROWN: THE HIGH ROAD TOUR', 'type': 'event', 'id': 'vv1A8v-oyGA5mvai', 'test': False, 'url': 'https://www.ticketmaster.com/kane-brown-the-high-road-tour-providence-rhode-island-04-05-2025/event/010061479BB8126C', 'locale': 'en-us', 'images': [{'ratio': '3_2', 'url': 'https://s1.ticketm.net/dam/a/da0/08bf0082-1b91-4904-8004-401a80209da0_ARTIST_PAGE_3_2.jpg', 'width': 305, 'height': 203, 'fallback': False}, {'ratio': '16_9', 'url': 'https://s1.ticketm.net/dam/a/da0/08bf0082-1b91-4904-8004-401a80209da0_EVENT_DETAIL_PAGE_16_9.jpg', 'width': 205, 'height': 115, 'fallback': False}, {'ratio': '16_9', 'url': 'https://s1.ticketm.net/dam/a/da0/08bf0082-1b91-4904-8004-401a80209da0_SOURCE', 'width': 2427, 'height': 1365, 'fallback': False}, {'ratio': '4_3', 'url': 'https://s1.ticketm.net/dam/a/da0/08bf0082-1b91-4904-8004-401a80209da0_CUSTOM.jpg', 'width': 305, 'height': 225, 'fallback': False}, {'ratio': '3_2', 'url': 'https://s1.ticketm.net/dam/a/da0/08bf0082-1b91-4904-8004-401a80209da0_TABLET_LANDSCAPE_3_2.jpg', 'width': 1024, 'height': 683, 'fallback': False}, {'ratio': '16_9', 'url': 'https://s1.ticketm.net/dam/a/da0/08bf0082-1b91-4904-8004-401a80209da0_RECOMENDATION_16_9.jpg', 'width': 100, 'height': 56, 'fallback': False}, {'ratio': '16_9', 'url': 'https://s1.ticketm.net/dam/a/da0/08bf0082-1b91-4904-8004-401a80209da0_RETINA_PORTRAIT_16_9.jpg', 'width': 640, 'height': 360, 'fallback': False}, {'ratio': '16_9', 'url': 'https://s1.ticketm.net/dam/a/da0/08bf0082-1b91-4904-8004-401a80209da0_TABLET_LANDSCAPE_LARGE_16_9.jpg', 'width': 2048, 'height': 1152, 'fallback': False}, {'ratio': '16_9', 'url': 'https://s1.ticketm.net/dam/a/da0/08bf0082-1b91-4904-8004-401a80209da0_RETINA_LANDSCAPE_16_9.jpg', 'width': 1136, 'height': 639, 'fallback': False}, {'ratio': '3_2', 'url': 'https://s1.ticketm.net/dam/a/da0/08bf0082-1b91-4904-8004-401a80209da0_RETINA_PORTRAIT_3_2.jpg', 'width': 640, 'height': 427, 'fallback': False}, {'ratio': '16_9', 'url': 'https://s1.ticketm.net/dam/a/da0/08bf0082-1b91-4904-8004-401a80209da0_TABLET_LANDSCAPE_16_9.jpg', 'width': 1024, 'height': 576, 'fallback': False}], 'distance': 1.62, 'units': 'MILES', 'sales': {'public': {'startDateTime': '2024-10-18T14:00:00Z', 'startTBD': False, 'startTBA': False, 'endDateTime': '2025-04-06T01:00:00Z'}, 'presales': [{'startDateTime': '2024-10-15T14:00:00Z', 'endDateTime': '2024-10-18T02:00:00Z', 'name': 'Kane Brown Presale'}, {'startDateTime': '2024-10-16T14:00:00Z', 'endDateTime': '2024-10-18T02:00:00Z', 'name': 'Spotify Fans First Presale'}, {'startDateTime': '2024-10-17T14:00:00Z', 'endDateTime': '2024-10-18T02:00:00Z', 'name': 'Venue Presale'}, {'startDateTime': '2024-10-17T14:00:00Z', 'endDateTime': '2024-10-18T02:00:00Z', 'name': 'Radio Presale'}, {'startDateTime': '2024-10-17T14:00:00Z', 'endDateTime': '2024-10-18T02:00:00Z', 'name': 'Monster Jam Presale'}, {'startDateTime': '2024-10-17T14:00:00Z', 'endDateTime': '2024-10-18T02:00:00Z', 'name': 'Dasha Presale'}, {'startDateTime': '2024-10-17T14:00:00Z', 'endDateTime': '2024-10-18T02:00:00Z', 'name': 'Scotty McCreery Fanclub'}, {'startDateTime': '2024-10-17T16:00:00Z', 'endDateTime': '2024-10-18T02:00:00Z', 'name': 'Scotty McCreery Presale'}, {'startDateTime': '2024-10-17T14:00:00Z', 'endDateTime': '2024-10-18T02:00:00Z', 'name': 'Ticketmaster Presale'}, {'startDateTime': '2024-10-16T14:00:00Z', 'endDateTime': '2024-10-18T02:00:00Z', 'name': 'Amex Presale Tickets'}, {'startDateTime': '2024-10-16T14:00:00Z', 'endDateTime': '2024-10-18T02:00:00Z', 'name': 'Amex Preferred Tickets'}, {'startDateTime': '2024-10-18T14:00:00Z', 'endDateTime': '2025-04-06T01:00:00Z', 'name': 'Amex Preferred Tickets'}, {'startDateTime': '2024-10-18T14:00:00Z', 'endDateTime': '2025-04-06T01:00:00Z', 'name': 'Amex Reserved Tickets'}, {'startDateTime': '2024-10-15T14:00:00Z', 'endDateTime': '2024-10-18T02:00:00Z', 'name': 'Official Platinum Presale'}, {'startDateTime': '2024-10-18T14:00:00Z', 'endDateTime': '2025-04-06T01:00:00Z', 'name': 'Official Platinum Onsale'}, {'startDateTime': '2024-10-15T14:00:00Z', 'endDateTime': '2024-10-18T02:00:00Z', 'name': 'VIP Packages Presale'}, {'startDateTime': '2024-10-18T14:00:00Z', 'endDateTime': '2025-03-14T21:00:00Z', 'name': 'VIP Packages Onsale'}]}, 'dates': {'start': {'localDate': '2025-04-05', 'localTime': '19:00:00', 'dateTime': '2025-04-05T23:00:00Z', 'dateTBD': False, 'dateTBA': False, 'timeTBA': False, 'noSpecificTime': False}, 'timezone': 'America/New_York', 'status': {'code': 'onsale'}, 'spanMultipleDays': False}, 'classifications': [{'primary': True, 'segment': {'id': 'KZFzniwnSyZfZ7v7nJ', 'name': 'Music'}, 'genre': {'id': 'KnvZfZ7vAv6', 'name': 'Country'}, 'subGenre': {'id': 'KZazBEonSMnZfZ7vAFa', 'name': 'Country'}, 'type': {'id': 'KZAyXgnZfZ7v7nI', 'name': 'Undefined'}, 'subType': {'id': 'KZFzBErXgnZfZ7v7lJ', 'name': 'Undefined'}, 'family': False}], 'promoter': {'id': '830', 'name': 'AEG LIVE', 'description': 'AEG LIVE / NTL / USA'}, 'promoters': [{'id': '830', 'name': 'AEG LIVE', 'description': 'AEG LIVE / NTL / USA'}], 'info': 'Ticket prices may fluctuate at any time, based on demand', 'priceRanges': [{'type': 'standard', 'currency': 'USD', 'min': 44.5, 'max': 194.5}], 'products': [{'name': 'PARKWHIZ AMICA MUTUAL PAVILION', 'id': 'vv177Zb4GkUILK_l', 'url': 'https://www.ticketmaster.com/parkwhiz-amica-mutual-pavilion-providence-rhode-island-04-05-2025/event/0100615DA87D366B', 'type': 'Upsell', 'classifications': [{'primary': True, 'segment': {'id': 'KZFzniwnSyZfZ7v7n1', 'name': 'Miscellaneous'}, 'genre': {'id': 'KnvZfZ7v7ll', 'name': 'Undefined'}, 'subGenre': {'id': 'KZazBEonSMnZfZ7vAv1', 'name': 'Undefined'}, 'type': {'id': 'KZAyXgnZfZ7vAva', 'name': 'Parking'}, 'subType': {'id': 'KZFzBErXgnZfZ7vAFe', 'name': 'Regular'}, 'family': False}]}], 'seatmap': {'staticUrl': 'https://mapsapi.tmol.io/maps/geometry/3/event/010061479BB8126C/staticImage?type=png&systemId=HOST', 'id': 'seatmap'}, 'accessibility': {'ticketLimit': 20, 'id': 'accessibility'}, 'ticketLimit': {'info': 'There is an 8 ticket limit on the event', 'id': 'ticketLimit'}, 'ageRestrictions': {'legalAgeEnforced': False, 'id': 'ageRestrictions'}, 'ticketing': {'safeTix': {'enabled': True, 'inAppOnlyEnabled': False}, 'allInclusivePricing': {'enabled': False}, 'id': 'ticketing'}, '_links': {'self': {'href': '/discovery/v2/events/vv1A8v-oyGA5mvai?locale=en-us'}, 'attractions': [{'href': '/discovery/v2/attractions/K8vZ917fFLf?locale=en-us'}, {'href': '/discovery/v2/attractions/K8vZ91726j0?locale=en-us'}, {'href': '/discovery/v2/attractions/K8vZ917KR30?locale=en-us'}], 'venues': [{'href': '/discovery/v2/venues/KovZpa2gGe?locale=en-us'}]}, '_embedded': {'venues': [{'name': 'Amica Mutual Pavilion', 'type': 'venue', 'id': 'KovZpa2gGe', 'test': False, 'url': 'https://www.ticketmaster.com/amica-mutual-pavilion-tickets-providence/venue/8231', 'locale': 'en-us', 'aliases': ['providence civic center', 'dunkin donuts center'], 'images': [{'ratio': '16_9', 'url': 'https://s1.ticketm.net/dbimages/22431v.jpg', 'width': 640, 'height': 360, 'fallback': False}], 'distance': 1.62, 'units': 'MILES', 'postalCode': '02903', 'timezone': 'America/New_York', 'city': {'name': 'Providence'}, 'state': {'name': 'Rhode Island', 'stateCode': 'RI'}, 'country': {'name': 'United States Of America', 'countryCode': 'US'}, 'address': {'line1': '1 Lasalle SQ'}, 'location': {'longitude': '-71.41781855', 'latitude': '41.82367038'}, 'markets': [{'name': 'New England', 'id': '33'}, {'name': 'Connecticut', 'id': '124'}], 'dmas': [{'id': 225}, {'id': 238}, {'id': 296}, {'id': 361}, {'id': 363}, {'id': 364}, {'id': 392}], 'social': {'twitter': {'handle': '@The_AMPPVD'}}, 'boxOfficeInfo': {'phoneNumberDetail': 'General Information Number: (401) 331-0700 Box Office Number: (401) 331-6700 Group Sales: Contact Providence Sports + Entertainment at (401) 273-5000', 'openHoursDetail': 'Box Office Hours Monday through Friday 9am until 5pm Open weekends and evenings for events only.', 'acceptedPaymentDetail': 'Cash, Visa, MC, Discover. American Express', 'willCallDetail': 'Pick-up tickets one hour prior to show at the \"will call\" window in the main lobby. Customers must present the actual credit card used to place the order, a photo i.d., and the order number.'}, 'parkingDetail': 'Ample (2,300 spaces), safe (24 hour security patrolled), convenient (immediately adjacent to the Amica Mutual Pavilion), and professional (uniformed, trained personnel) parking available at the two Rhode Island Convention Center parking garages. Both garages are located immediately adjacent to the Amica Mutual Pavilion, one at 99 West Exchange Street (also adjacent to the Westin Hotel) and the other at 7 Service Road (directly across Service Road from the Amica Mutual Pavilion main entrance).', 'accessibleSeatingDetail': 'This venue is equipped for accessible patrons.', 'generalInfo': {'generalRule': 'No cameras, video devices, or bottles are allowed per promoter requests.', 'childRule': 'Select performances offer discounts to children ages: 2-12 Exceptions may apply, please inquire.'}, 'upcomingEvents': {'archtics': 1, 'tmr': 16, 'ticketmaster': 75, '_total': 92, '_filtered': 0}, '_links': {'self': {'href': '/discovery/v2/venues/KovZpa2gGe?locale=en-us'}}}], 'attractions': [{'name': 'Kane Brown', 'type': 'attraction', 'id': 'K8vZ917fFLf', 'test': False, 'url': 'https://www.ticketmaster.com/kane-brown-tickets/artist/2182670', 'locale': 'en-us', 'externalLinks': {'youtube': [{'url': 'https://www.youtube.com/channel/UC2QTDn02Xobvy_N2bb_Zzlw'}], 'twitter': [{'url': 'https://twitter.com/kanebrown'}], 'itunes': [{'url': 'https://itunes.apple.com/us/artist/id930928857'}], 'lastfm': [{'url': 'https://www.last.fm/music/Kane+Brown'}], 'spotify': [{'url': 'https://open.spotify.com/artist/3oSJ7TBVCWMDMiYjXNiCKE'}], 'facebook': [{'url': 'https://www.facebook.com/kaneallenbrown'}], 'wiki': [{'url': 'https://en.wikipedia.org/wiki/Kane_Brown'}], 'instagram': [{'url': 'https://www.instagram.com/kanebrown_music'}], 'musicbrainz': [{'id': 'a62e299b-4707-4ff5-ad53-d80b2b03319d', 'url': 'https://musicbrainz.org/artist/a62e299b-4707-4ff5-ad53-d80b2b03319d'}], 'homepage': [{'url': 'https://www.kanebrownmusic.com/'}]}, 'images': [{'ratio': '3_2', 'url': 'https://s1.ticketm.net/dam/a/da0/08bf0082-1b91-4904-8004-401a80209da0_ARTIST_PAGE_3_2.jpg', 'width': 305, 'height': 203, 'fallback': False}, {'ratio': '16_9', 'url': 'https://s1.ticketm.net/dam/a/da0/08bf0082-1b91-4904-8004-401a80209da0_EVENT_DETAIL_PAGE_16_9.jpg', 'width': 205, 'height': 115, 'fallback': False}, {'ratio': '16_9', 'url': 'https://s1.ticketm.net/dam/a/da0/08bf0082-1b91-4904-8004-401a80209da0_SOURCE', 'width': 2427, 'height': 1365, 'fallback': False}, {'ratio': '4_3', 'url': 'https://s1.ticketm.net/dam/a/da0/08bf0082-1b91-4904-8004-401a80209da0_CUSTOM.jpg', 'width': 305, 'height': 225, 'fallback': False}, {'ratio': '3_2', 'url': 'https://s1.ticketm.net/dam/a/da0/08bf0082-1b91-4904-8004-401a80209da0_TABLET_LANDSCAPE_3_2.jpg', 'width': 1024, 'height': 683, 'fallback': False}, {'ratio': '16_9', 'url': 'https://s1.ticketm.net/dam/a/da0/08bf0082-1b91-4904-8004-401a80209da0_RECOMENDATION_16_9.jpg', 'width': 100, 'height': 56, 'fallback': False}, {'ratio': '16_9', 'url': 'https://s1.ticketm.net/dam/a/da0/08bf0082-1b91-4904-8004-401a80209da0_RETINA_PORTRAIT_16_9.jpg', 'width': 640, 'height': 360, 'fallback': False}, {'ratio': '16_9', 'url': 'https://s1.ticketm.net/dam/a/da0/08bf0082-1b91-4904-8004-401a80209da0_TABLET_LANDSCAPE_LARGE_16_9.jpg', 'width': 2048, 'height': 1152, 'fallback': False}, {'ratio': '16_9', 'url': 'https://s1.ticketm.net/dam/a/da0/08bf0082-1b91-4904-8004-401a80209da0_RETINA_LANDSCAPE_16_9.jpg', 'width': 1136, 'height': 639, 'fallback': False}, {'ratio': '3_2', 'url': 'https://s1.ticketm.net/dam/a/da0/08bf0082-1b91-4904-8004-401a80209da0_RETINA_PORTRAIT_3_2.jpg', 'width': 640, 'height': 427, 'fallback': False}, {'ratio': '16_9', 'url': 'https://s1.ticketm.net/dam/a/da0/08bf0082-1b91-4904-8004-401a80209da0_TABLET_LANDSCAPE_16_9.jpg', 'width': 1024, 'height': 576, 'fallback': False}], 'classifications': [{'primary': True, 'segment': {'id': 'KZFzniwnSyZfZ7v7nJ', 'name': 'Music'}, 'genre': {'id': 'KnvZfZ7vAv6', 'name': 'Country'}, 'subGenre': {'id': 'KZazBEonSMnZfZ7vAFa', 'name': 'Country'}, 'type': {'id': 'KZAyXgnZfZ7v7nI', 'name': 'Undefined'}, 'subType': {'id': 'KZFzBErXgnZfZ7v7lJ', 'name': 'Undefined'}, 'family': False}], 'upcomingEvents': {'tmr': 8, 'ticketmaster': 27, '_total': 35, '_filtered': 0}, '_links': {'self': {'href': '/discovery/v2/attractions/K8vZ917fFLf?locale=en-us'}}}, {'name': 'Scotty McCreery', 'type': 'attraction', 'id': 'K8vZ91726j0', 'test': False, 'url': 'https://www.ticketmaster.com/scotty-mccreery-tickets/artist/1647050', 'locale': 'en-us', 'externalLinks': {'youtube': [{'url': 'https://www.youtube.com/user/ScottyMcCreeryVEVO'}], 'twitter': [{'url': 'https://twitter.com/ScottyMcCreery'}], 'facebook': [{'url': 'https://www.facebook.com/scottymccreery'}], 'wiki': [{'url': 'https://en.wikipedia.org/wiki/Scotty_McCreery'}], 'musicbrainz': [{'id': '2294c553-58e4-425b-8bab-bee01f2d477a'}]}, 'images': [{'ratio': '3_2', 'url': 'https://s1.ticketm.net/dam/a/2ac/5b111bf4-b186-4bd7-aaf9-4a64055b42ac_1041511_RETINA_PORTRAIT_3_2.jpg', 'width': 640, 'height': 427, 'fallback': False}, {'ratio': '16_9', 'url': 'https://s1.ticketm.net/dam/a/2ac/5b111bf4-b186-4bd7-aaf9-4a64055b42ac_SOURCE', 'width': 2426, 'height': 1365, 'fallback': False}, {'ratio': '16_9', 'url': 'https://s1.ticketm.net/dam/a/2ac/5b111bf4-b186-4bd7-aaf9-4a64055b42ac_1041511_EVENT_DETAIL_PAGE_16_9.jpg', 'width': 205, 'height': 115, 'fallback': False}, {'ratio': '16_9', 'url': 'https://s1.ticketm.net/dam/a/2ac/5b111bf4-b186-4bd7-aaf9-4a64055b42ac_1041511_TABLET_LANDSCAPE_16_9.jpg', 'width': 1024, 'height': 576, 'fallback': False}, {'ratio': '16_9', 'url': 'https://s1.ticketm.net/dam/a/2ac/5b111bf4-b186-4bd7-aaf9-4a64055b42ac_1041511_RETINA_LANDSCAPE_16_9.jpg', 'width': 1136, 'height': 639, 'fallback': False}, {'ratio': '16_9', 'url': 'https://s1.ticketm.net/dam/a/2ac/5b111bf4-b186-4bd7-aaf9-4a64055b42ac_1041511_RETINA_PORTRAIT_16_9.jpg', 'width': 640, 'height': 360, 'fallback': False}, {'ratio': '16_9', 'url': 'https://s1.ticketm.net/dam/a/2ac/5b111bf4-b186-4bd7-aaf9-4a64055b42ac_1041511_RECOMENDATION_16_9.jpg', 'width': 100, 'height': 56, 'fallback': False}, {'ratio': '4_3', 'url': 'https://s1.ticketm.net/dam/a/2ac/5b111bf4-b186-4bd7-aaf9-4a64055b42ac_1041511_CUSTOM.jpg', 'width': 305, 'height': 225, 'fallback': False}, {'ratio': '3_2', 'url': 'https://s1.ticketm.net/dam/a/2ac/5b111bf4-b186-4bd7-aaf9-4a64055b42ac_1041511_TABLET_LANDSCAPE_3_2.jpg', 'width': 1024, 'height': 683, 'fallback': False}, {'ratio': '16_9', 'url': 'https://s1.ticketm.net/dam/a/2ac/5b111bf4-b186-4bd7-aaf9-4a64055b42ac_1041511_TABLET_LANDSCAPE_LARGE_16_9.jpg', 'width': 2048, 'height': 1152, 'fallback': False}, {'ratio': '3_2', 'url': 'https://s1.ticketm.net/dam/a/2ac/5b111bf4-b186-4bd7-aaf9-4a64055b42ac_1041511_ARTIST_PAGE_3_2.jpg', 'width': 305, 'height': 203, 'fallback': False}], 'classifications': [{'primary': True, 'segment': {'id': 'KZFzniwnSyZfZ7v7nJ', 'name': 'Music'}, 'genre': {'id': 'KnvZfZ7vAv6', 'name': 'Country'}, 'subGenre': {'id': 'KZazBEonSMnZfZ7vAFa', 'name': 'Country'}, 'type': {'id': 'KZAyXgnZfZ7v7nI', 'name': 'Undefined'}, 'subType': {'id': 'KZFzBErXgnZfZ7v7lJ', 'name': 'Undefined'}, 'family': False}], 'upcomingEvents': {'tmr': 5, 'ticketmaster': 27, '_total': 32, '_filtered': 0}, '_links': {'self': {'href': '/discovery/v2/attractions/K8vZ91726j0?locale=en-us'}}}, {'name': 'Dasha', 'type': 'attraction', 'id': 'K8vZ917KR30', 'test': False, 'url': 'https://www.ticketmaster.com/dasha-tickets/artist/2146382', 'locale': 'en-us', 'externalLinks': {'youtube': [{'url': 'https://www.youtube.com/user/DashaVidz'}], 'itunes': [{'url': 'https://music.apple.com/us/artist/dasha/1462663731'}], 'facebook': [{'url': 'https://www.facebook.com/dashanovotny'}], 'spotify': [{'url': 'https://open.spotify.com/artist/7Ez6lTtSMjMf2YSYpukP1I'}], 'instagram': [{'url': 'https://www.instagram.com/dashamusic/'}], 'musicbrainz': [{'id': '8f3003c3-65b0-4d82-8b0d-6e57cecbfa17', 'url': 'https://musicbrainz.org/artist/8f3003c3-65b0-4d82-8b0d-6e57cecbfa17'}], 'homepage': [{'url': 'https://www.itsdashabitch.com/'}]}, 'images': [{'ratio': '16_9', 'url': 'https://s1.ticketm.net/dam/a/c36/c56a17b8-4a60-42bf-8833-a31e1d267c36_TABLET_LANDSCAPE_LARGE_16_9.jpg', 'width': 2048, 'height': 1152, 'fallback': False, 'attribution': 'Reactivating for request in CMG-76311)'}, {'ratio': '16_9', 'url': 'https://s1.ticketm.net/dam/a/c36/c56a17b8-4a60-42bf-8833-a31e1d267c36_SOURCE', 'width': 2426, 'height': 1365, 'fallback': False, 'attribution': 'Reactivating for request in CMG-76311)'}, {'ratio': '16_9', 'url': 'https://s1.ticketm.net/dam/a/c36/c56a17b8-4a60-42bf-8833-a31e1d267c36_TABLET_LANDSCAPE_16_9.jpg', 'width': 1024, 'height': 576, 'fallback': False, 'attribution': 'Reactivating for request in CMG-76311)'}, {'ratio': '16_9', 'url': 'https://s1.ticketm.net/dam/a/c36/c56a17b8-4a60-42bf-8833-a31e1d267c36_RETINA_LANDSCAPE_16_9.jpg', 'width': 1136, 'height': 639, 'fallback': False, 'attribution': 'Reactivating for request in CMG-76311)'}, {'ratio': '3_2', 'url': 'https://s1.ticketm.net/dam/a/c36/c56a17b8-4a60-42bf-8833-a31e1d267c36_TABLET_LANDSCAPE_3_2.jpg', 'width': 1024, 'height': 683, 'fallback': False, 'attribution': 'Reactivating for request in CMG-76311)'}, {'ratio': '3_2', 'url': 'https://s1.ticketm.net/dam/a/c36/c56a17b8-4a60-42bf-8833-a31e1d267c36_ARTIST_PAGE_3_2.jpg', 'width': 305, 'height': 203, 'fallback': False, 'attribution': 'Reactivating for request in CMG-76311)'}, {'ratio': '16_9', 'url': 'https://s1.ticketm.net/dam/a/c36/c56a17b8-4a60-42bf-8833-a31e1d267c36_RECOMENDATION_16_9.jpg', 'width': 100, 'height': 56, 'fallback': False, 'attribution': 'Reactivating for request in CMG-76311)'}, {'ratio': '16_9', 'url': 'https://s1.ticketm.net/dam/a/c36/c56a17b8-4a60-42bf-8833-a31e1d267c36_RETINA_PORTRAIT_16_9.jpg', 'width': 640, 'height': 360, 'fallback': False, 'attribution': 'Reactivating for request in CMG-76311)'}, {'ratio': '3_2', 'url': 'https://s1.ticketm.net/dam/a/c36/c56a17b8-4a60-42bf-8833-a31e1d267c36_RETINA_PORTRAIT_3_2.jpg', 'width': 640, 'height': 427, 'fallback': False, 'attribution': 'Reactivating for request in CMG-76311)'}, {'ratio': '4_3', 'url': 'https://s1.ticketm.net/dam/a/c36/c56a17b8-4a60-42bf-8833-a31e1d267c36_CUSTOM.jpg', 'width': 305, 'height': 225, 'fallback': False, 'attribution': 'Reactivating for request in CMG-76311)'}, {'ratio': '16_9', 'url': 'https://s1.ticketm.net/dam/a/c36/c56a17b8-4a60-42bf-8833-a31e1d267c36_EVENT_DETAIL_PAGE_16_9.jpg', 'width': 205, 'height': 115, 'fallback': False, 'attribution': 'Reactivating for request in CMG-76311)'}], 'classifications': [{'primary': True, 'segment': {'id': 'KZFzniwnSyZfZ7v7nJ', 'name': 'Music'}, 'genre': {'id': 'KnvZfZ7vAv6', 'name': 'Country'}, 'subGenre': {'id': 'KZazBEonSMnZfZ7vAaA', 'name': 'Country Pop'}, 'type': {'id': 'KZAyXgnZfZ7v7l1', 'name': 'Group'}, 'subType': {'id': 'KZFzBErXgnZfZ7vA71', 'name': 'Band'}, 'family': False}], 'upcomingEvents': {'tmr': 6, 'mfx-nl': 2, 'ticketmaster': 34, '_total': 42, '_filtered': 0}, '_links': {'self': {'href': '/discovery/v2/attractions/K8vZ917KR30?locale=en-us'}}}]}}, {'name': 'Lucinda Williams', 'type': 'event', 'id': 'Z7r9jZ1A78338', 'test': False, 'url': 'https://www.ticketmaster.com/event/Z7r9jZ1A78338', 'locale': 'en-us', 'images': [{'ratio': '3_2', 'url': 'https://s1.ticketm.net/dam/a/9f3/bf944ee4-4120-402d-a1e2-39ffebb009f3_RETINA_PORTRAIT_3_2.jpg', 'width': 640, 'height': 427, 'fallback': False}, {'ratio': '16_9', 'url': 'https://s1.ticketm.net/dam/a/9f3/bf944ee4-4120-402d-a1e2-39ffebb009f3_TABLET_LANDSCAPE_16_9.jpg', 'width': 1024, 'height': 576, 'fallback': False}, {'ratio': '16_9', 'url': 'https://s1.ticketm.net/dam/a/9f3/bf944ee4-4120-402d-a1e2-39ffebb009f3_RETINA_LANDSCAPE_16_9.jpg', 'width': 1136, 'height': 639, 'fallback': False}, {'ratio': '16_9', 'url': 'https://s1.ticketm.net/dam/a/9f3/bf944ee4-4120-402d-a1e2-39ffebb009f3_SOURCE', 'width': 2426, 'height': 1365, 'fallback': False}, {'ratio': '16_9', 'url': 'https://s1.ticketm.net/dam/a/9f3/bf944ee4-4120-402d-a1e2-39ffebb009f3_RETINA_PORTRAIT_16_9.jpg', 'width': 640, 'height': 360, 'fallback': False}, {'ratio': '4_3', 'url': 'https://s1.ticketm.net/dam/a/9f3/bf944ee4-4120-402d-a1e2-39ffebb009f3_CUSTOM.jpg', 'width': 305, 'height': 225, 'fallback': False}, {'ratio': '16_9', 'url': 'https://s1.ticketm.net/dam/a/9f3/bf944ee4-4120-402d-a1e2-39ffebb009f3_EVENT_DETAIL_PAGE_16_9.jpg', 'width': 205, 'height': 115, 'fallback': False}, {'ratio': '3_2', 'url': 'https://s1.ticketm.net/dam/a/9f3/bf944ee4-4120-402d-a1e2-39ffebb009f3_ARTIST_PAGE_3_2.jpg', 'width': 305, 'height': 203, 'fallback': False}, {'ratio': '3_2', 'url': 'https://s1.ticketm.net/dam/a/9f3/bf944ee4-4120-402d-a1e2-39ffebb009f3_TABLET_LANDSCAPE_3_2.jpg', 'width': 1024, 'height': 683, 'fallback': False}, {'ratio': '16_9', 'url': 'https://s1.ticketm.net/dam/a/9f3/bf944ee4-4120-402d-a1e2-39ffebb009f3_TABLET_LANDSCAPE_LARGE_16_9.jpg', 'width': 2048, 'height': 1152, 'fallback': False}, {'ratio': '16_9', 'url': 'https://s1.ticketm.net/dam/a/9f3/bf944ee4-4120-402d-a1e2-39ffebb009f3_RECOMENDATION_16_9.jpg', 'width': 100, 'height': 56, 'fallback': False}], 'distance': 1.3, 'units': 'MILES', 'sales': {'public': {'startDateTime': '1900-01-01T06:00:00Z', 'startTBD': False, 'startTBA': False, 'endDateTime': '2024-11-16T01:00:00Z'}}, 'dates': {'start': {'localDate': '2024-11-15', 'localTime': '20:00:00', 'dateTime': '2024-11-16T01:00:00Z', 'dateTBD': False, 'dateTBA': False, 'timeTBA': False, 'noSpecificTime': False}, 'status': {'code': 'onsale'}, 'spanMultipleDays': False}, 'classifications': [{'primary': True, 'segment': {'id': 'KZFzniwnSyZfZ7v7nJ', 'name': 'Music'}, 'genre': {'id': 'KnvZfZ7vAv6', 'name': 'Country'}, 'subGenre': {'id': 'KZazBEonSMnZfZ7vAad', 'name': 'Country Folk'}, 'family': False}], 'outlets': [{'url': 'https://www.thevetsri.com/events', 'type': 'venueBoxOffice'}, {'url': 'https://www.ticketmaster.com/lucinda-williams-providence-rhode-island-11-15-2024/event/Zk0FM1R0GAvtzGz', 'type': 'tmMarketPlace'}], 'seatmap': {'staticUrl': 'https://content.resale.ticketmaster.com/graphics/TMResale/2/VenueMaps/7357-47185-4-0-TheVETS.png', 'id': 'seatmap'}, 'ticketing': {'allInclusivePricing': {'enabled': False}, 'id': 'ticketing'}, '_links': {'self': {'href': '/discovery/v2/events/Z7r9jZ1A78338?locale=en-us'}, 'attractions': [{'href': '/discovery/v2/attractions/K8vZ91711TV?locale=en-us'}], 'venues': [{'href': '/discovery/v2/venues/ZFr9jZF7kF?locale=en-us'}]}, '_embedded': {'venues': [{'name': 'The VETS', 'type': 'venue', 'id': 'ZFr9jZF7kF', 'test': False, 'locale': 'en-us', 'distance': 1.3, 'units': 'MILES', 'postalCode': '02903', 'timezone': 'America/New_York', 'city': {'name': 'Providence'}, 'state': {'name': 'Rhode Island', 'stateCode': 'RI'}, 'country': {'name': 'United States Of America', 'countryCode': 'US'}, 'address': {'line1': '1 Ave of the Arts'}, 'location': {'longitude': '-71.412804', 'latitude': '41.8204'}, 'dmas': [{'id': 364}], 'upcomingEvents': {'tmr': 33, '_total': 33, '_filtered': 0}, '_links': {'self': {'href': '/discovery/v2/venues/ZFr9jZF7kF?locale=en-us'}}}], 'attractions': [{'name': 'Lucinda Williams', 'type': 'attraction', 'id': 'K8vZ91711TV', 'test': False, 'url': 'https://www.ticketmaster.com/lucinda-williams-tickets/artist/736461', 'locale': 'en-us', 'externalLinks': {'youtube': [{'url': 'https://www.youtube.com/user/lucindawilliams'}], 'twitter': [{'url': 'https://twitter.com/happywoman9'}], 'itunes': [{'url': 'https://music.apple.com/ca/artist/lucinda-williams/267658'}], 'lastfm': [{'url': 'http://www.last.fm/music/Lucinda+Williams'}], 'spotify': [{'url': 'https://open.spotify.com/artist/60ht0hWRy1yjUDfNsLuHuP?autoplay=true'}], 'wiki': [{'url': 'https://en.wikipedia.org/wiki/Lucinda_Williams'}], 'facebook': [{'url': 'https://www.facebook.com/LucindaWilliams'}], 'instagram': [{'url': 'https://www.instagram.com/lucinda_williams/'}], 'musicbrainz': [{'id': '21685b15-3074-446e-aa1d-ff7157014f53', 'url': 'https://musicbrainz.org/artist/21685b15-3074-446e-aa1d-ff7157014f53'}], 'homepage': [{'url': 'http://www.lucindawilliams.com/'}]}, 'images': [{'ratio': '3_2', 'url': 'https://s1.ticketm.net/dam/a/9f3/bf944ee4-4120-402d-a1e2-39ffebb009f3_RETINA_PORTRAIT_3_2.jpg', 'width': 640, 'height': 427, 'fallback': False}, {'ratio': '16_9', 'url': 'https://s1.ticketm.net/dam/a/9f3/bf944ee4-4120-402d-a1e2-39ffebb009f3_TABLET_LANDSCAPE_16_9.jpg', 'width': 1024, 'height': 576, 'fallback': False}, {'ratio': '16_9', 'url': 'https://s1.ticketm.net/dam/a/9f3/bf944ee4-4120-402d-a1e2-39ffebb009f3_RETINA_LANDSCAPE_16_9.jpg', 'width': 1136, 'height': 639, 'fallback': False}, {'ratio': '16_9', 'url': 'https://s1.ticketm.net/dam/a/9f3/bf944ee4-4120-402d-a1e2-39ffebb009f3_SOURCE', 'width': 2426, 'height': 1365, 'fallback': False}, {'ratio': '16_9', 'url': 'https://s1.ticketm.net/dam/a/9f3/bf944ee4-4120-402d-a1e2-39ffebb009f3_RETINA_PORTRAIT_16_9.jpg', 'width': 640, 'height': 360, 'fallback': False}, {'ratio': '4_3', 'url': 'https://s1.ticketm.net/dam/a/9f3/bf944ee4-4120-402d-a1e2-39ffebb009f3_CUSTOM.jpg', 'width': 305, 'height': 225, 'fallback': False}, {'ratio': '16_9', 'url': 'https://s1.ticketm.net/dam/a/9f3/bf944ee4-4120-402d-a1e2-39ffebb009f3_EVENT_DETAIL_PAGE_16_9.jpg', 'width': 205, 'height': 115, 'fallback': False}, {'ratio': '3_2', 'url': 'https://s1.ticketm.net/dam/a/9f3/bf944ee4-4120-402d-a1e2-39ffebb009f3_ARTIST_PAGE_3_2.jpg', 'width': 305, 'height': 203, 'fallback': False}, {'ratio': '3_2', 'url': 'https://s1.ticketm.net/dam/a/9f3/bf944ee4-4120-402d-a1e2-39ffebb009f3_TABLET_LANDSCAPE_3_2.jpg', 'width': 1024, 'height': 683, 'fallback': False}, {'ratio': '16_9', 'url': 'https://s1.ticketm.net/dam/a/9f3/bf944ee4-4120-402d-a1e2-39ffebb009f3_TABLET_LANDSCAPE_LARGE_16_9.jpg', 'width': 2048, 'height': 1152, 'fallback': False}, {'ratio': '16_9', 'url': 'https://s1.ticketm.net/dam/a/9f3/bf944ee4-4120-402d-a1e2-39ffebb009f3_RECOMENDATION_16_9.jpg', 'width': 100, 'height': 56, 'fallback': False}], 'classifications': [{'primary': True, 'segment': {'id': 'KZFzniwnSyZfZ7v7nJ', 'name': 'Music'}, 'genre': {'id': 'KnvZfZ7vAeA', 'name': 'Rock'}, 'subGenre': {'id': 'KZazBEonSMnZfZ7v6F1', 'name': 'Pop'}, 'type': {'id': 'KZAyXgnZfZ7v7nI', 'name': 'Undefined'}, 'subType': {'id': 'KZFzBErXgnZfZ7v7lJ', 'name': 'Undefined'}, 'family': False}], 'upcomingEvents': {'tmr': 4, 'mfx-nl': 2, 'ticketmaster': 8, '_total': 14, '_filtered': 0}, '_links': {'self': {'href': '/discovery/v2/attractions/K8vZ91711TV?locale=en-us'}}}]}}, {'name': 'Jason Isbell', 'type': 'event', 'id': 'Z7r9jZ1A7oZZP', 'test': False, 'url': 'https://www.ticketmaster.com/event/Z7r9jZ1A7oZZP', 'locale': 'en-us', 'images': [{'ratio': '4_3', 'url': 'https://s1.ticketm.net/dam/a/ae3/25928abf-c58d-427c-9325-c2247e73fae3_CUSTOM.jpg', 'width': 305, 'height': 225, 'fallback': False}, {'ratio': '3_2', 'url': 'https://s1.ticketm.net/dam/a/ae3/25928abf-c58d-427c-9325-c2247e73fae3_ARTIST_PAGE_3_2.jpg', 'width': 305, 'height': 203, 'fallback': False}, {'ratio': '3_2', 'url': 'https://s1.ticketm.net/dam/a/ae3/25928abf-c58d-427c-9325-c2247e73fae3_RETINA_PORTRAIT_3_2.jpg', 'width': 640, 'height': 427, 'fallback': False}, {'ratio': '16_9', 'url': 'https://s1.ticketm.net/dam/a/ae3/25928abf-c58d-427c-9325-c2247e73fae3_EVENT_DETAIL_PAGE_16_9.jpg', 'width': 205, 'height': 115, 'fallback': False}, {'ratio': '16_9', 'url': 'https://s1.ticketm.net/dam/a/ae3/25928abf-c58d-427c-9325-c2247e73fae3_RETINA_PORTRAIT_16_9.jpg', 'width': 640, 'height': 360, 'fallback': False}, {'ratio': '16_9', 'url': 'https://s1.ticketm.net/dam/a/ae3/25928abf-c58d-427c-9325-c2247e73fae3_SOURCE', 'width': 2426, 'height': 1365, 'fallback': False}, {'ratio': '16_9', 'url': 'https://s1.ticketm.net/dam/a/ae3/25928abf-c58d-427c-9325-c2247e73fae3_RECOMENDATION_16_9.jpg', 'width': 100, 'height': 56, 'fallback': False}, {'ratio': '3_2', 'url': 'https://s1.ticketm.net/dam/a/ae3/25928abf-c58d-427c-9325-c2247e73fae3_TABLET_LANDSCAPE_3_2.jpg', 'width': 1024, 'height': 683, 'fallback': False}, {'ratio': '16_9', 'url': 'https://s1.ticketm.net/dam/a/ae3/25928abf-c58d-427c-9325-c2247e73fae3_TABLET_LANDSCAPE_LARGE_16_9.jpg', 'width': 2048, 'height': 1152, 'fallback': False}, {'ratio': '16_9', 'url': 'https://s1.ticketm.net/dam/a/ae3/25928abf-c58d-427c-9325-c2247e73fae3_TABLET_LANDSCAPE_16_9.jpg', 'width': 1024, 'height': 576, 'fallback': False}, {'ratio': '16_9', 'url': 'https://s1.ticketm.net/dam/a/ae3/25928abf-c58d-427c-9325-c2247e73fae3_RETINA_LANDSCAPE_16_9.jpg', 'width': 1136, 'height': 639, 'fallback': False}], 'distance': 1.3, 'units': 'MILES', 'sales': {'public': {'startDateTime': '2024-10-25T14:00:00Z', 'startTBD': False, 'startTBA': False, 'endDateTime': '2025-02-19T00:30:00Z'}}, 'dates': {'start': {'localDate': '2025-02-18', 'localTime': '19:30:00', 'dateTime': '2025-02-19T00:30:00Z', 'dateTBD': False, 'dateTBA': False, 'timeTBA': False, 'noSpecificTime': False}, 'status': {'code': 'onsale'}, 'spanMultipleDays': False}, 'classifications': [{'primary': True, 'segment': {'id': 'KZFzniwnSyZfZ7v7nJ', 'name': 'Music'}, 'genre': {'id': 'KnvZfZ7vAv6', 'name': 'Country'}, 'subGenre': {'id': 'KZazBEonSMnZfZ7vAad', 'name': 'Country Folk'}, 'family': False}], 'outlets': [{'url': 'https://www.ppacri.org/', 'type': 'venueBoxOffice'}, {'url': 'https://www.ticketmaster.com/jason-isbell-providence-rhode-island-02-18-2025/event/Zu0FM1R0e5FV00Q', 'type': 'tmMarketPlace'}], 'seatmap': {'staticUrl': 'https://content.resale.ticketmaster.com/maps/1370-1-1-main.gif', 'id': 'seatmap'}, 'ticketing': {'allInclusivePricing': {'enabled': False}, 'id': 'ticketing'}, '_links': {'self': {'href': '/discovery/v2/events/Z7r9jZ1A7oZZP?locale=en-us'}, 'attractions': [{'href': '/discovery/v2/attractions/K8vZ917GF97?locale=en-us'}], 'venues': [{'href': '/discovery/v2/venues/ZFr9jZe7Fv?locale=en-us'}]}, '_embedded': {'venues': [{'name': 'Providence Performing Arts', 'type': 'venue', 'id': 'ZFr9jZe7Fv', 'test': False, 'locale': 'en-us', 'distance': 1.3, 'units': 'MILES', 'postalCode': '02903', 'timezone': 'America/New_York', 'city': {'name': 'Providence'}, 'state': {'name': 'Rhode Island', 'stateCode': 'RI'}, 'country': {'name': 'United States Of America', 'countryCode': 'US'}, 'address': {'line1': '220 Weybosset St.'}, 'location': {'longitude': '-71.412804', 'latitude': '41.8204'}, 'dmas': [{'id': 364}], 'upcomingEvents': {'tmr': 47, '_total': 47, '_filtered': 0}, '_links': {'self': {'href': '/discovery/v2/venues/ZFr9jZe7Fv?locale=en-us'}}}], 'attractions': [{'name': 'Jason Isbell', 'type': 'attraction', 'id': 'K8vZ917GF97', 'test': False, 'url': 'https://www.ticketmaster.com/jason-isbell-tickets/artist/1130320', 'locale': 'en-us', 'externalLinks': {'youtube': [{'url': 'https://www.youtube.com/jasonisbellmusic'}], 'twitter': [{'url': 'https://twitter.com/JasonIsbell'}], 'itunes': [{'url': 'https://music.apple.com/us/artist/jason-isbell-and-the-400-unit/301599804'}], 'lastfm': [{'url': 'http://www.last.fm/music/Jason%20Isbell'}], 'spotify': [{'url': 'https://open.spotify.com/artist/3Lg3FGwBxOGuefqekQzRUf'}], 'facebook': [{'url': 'https://www.facebook.com/Jason-Isbell-105931101630321'}], 'wiki': [{'url': 'https://en.wikipedia.org/wiki/Jason_Isbell'}], 'instagram': [{'url': 'https://www.instagram.com/jasonisbell/'}], 'musicbrainz': [{'id': '4c501a41-5f23-41c9-a36a-5b86e894e08d', 'url': 'https://musicbrainz.org/artist/4c501a41-5f23-41c9-a36a-5b86e894e08d'}], 'homepage': [{'url': 'http://www.jasonisbell.com/'}]}, 'images': [{'ratio': '4_3', 'url': 'https://s1.ticketm.net/dam/a/ae3/25928abf-c58d-427c-9325-c2247e73fae3_CUSTOM.jpg', 'width': 305, 'height': 225, 'fallback': False}, {'ratio': '3_2', 'url': 'https://s1.ticketm.net/dam/a/ae3/25928abf-c58d-427c-9325-c2247e73fae3_ARTIST_PAGE_3_2.jpg', 'width': 305, 'height': 203, 'fallback': False}, {'ratio': '3_2', 'url': 'https://s1.ticketm.net/dam/a/ae3/25928abf-c58d-427c-9325-c2247e73fae3_RETINA_PORTRAIT_3_2.jpg', 'width': 640, 'height': 427, 'fallback': False}, {'ratio': '16_9', 'url': 'https://s1.ticketm.net/dam/a/ae3/25928abf-c58d-427c-9325-c2247e73fae3_EVENT_DETAIL_PAGE_16_9.jpg', 'width': 205, 'height': 115, 'fallback': False}, {'ratio': '16_9', 'url': 'https://s1.ticketm.net/dam/a/ae3/25928abf-c58d-427c-9325-c2247e73fae3_RETINA_PORTRAIT_16_9.jpg', 'width': 640, 'height': 360, 'fallback': False}, {'ratio': '16_9', 'url': 'https://s1.ticketm.net/dam/a/ae3/25928abf-c58d-427c-9325-c2247e73fae3_SOURCE', 'width': 2426, 'height': 1365, 'fallback': False}, {'ratio': '16_9', 'url': 'https://s1.ticketm.net/dam/a/ae3/25928abf-c58d-427c-9325-c2247e73fae3_RECOMENDATION_16_9.jpg', 'width': 100, 'height': 56, 'fallback': False}, {'ratio': '3_2', 'url': 'https://s1.ticketm.net/dam/a/ae3/25928abf-c58d-427c-9325-c2247e73fae3_TABLET_LANDSCAPE_3_2.jpg', 'width': 1024, 'height': 683, 'fallback': False}, {'ratio': '16_9', 'url': 'https://s1.ticketm.net/dam/a/ae3/25928abf-c58d-427c-9325-c2247e73fae3_TABLET_LANDSCAPE_LARGE_16_9.jpg', 'width': 2048, 'height': 1152, 'fallback': False}, {'ratio': '16_9', 'url': 'https://s1.ticketm.net/dam/a/ae3/25928abf-c58d-427c-9325-c2247e73fae3_TABLET_LANDSCAPE_16_9.jpg', 'width': 1024, 'height': 576, 'fallback': False}, {'ratio': '16_9', 'url': 'https://s1.ticketm.net/dam/a/ae3/25928abf-c58d-427c-9325-c2247e73fae3_RETINA_LANDSCAPE_16_9.jpg', 'width': 1136, 'height': 639, 'fallback': False}], 'classifications': [{'primary': True, 'segment': {'id': 'KZFzniwnSyZfZ7v7nJ', 'name': 'Music'}, 'genre': {'id': 'KnvZfZ7vAeA', 'name': 'Rock'}, 'subGenre': {'id': 'KZazBEonSMnZfZ7v6F1', 'name': 'Pop'}, 'type': {'id': 'KZAyXgnZfZ7v7nI', 'name': 'Undefined'}, 'subType': {'id': 'KZFzBErXgnZfZ7v7lJ', 'name': 'Undefined'}, 'family': False}], 'upcomingEvents': {'mfx-dk': 1, 'tmr': 10, 'ticketmaster': 6, 'mfx-no': 2, '_total': 19, '_filtered': 0}, '_links': {'self': {'href': '/discovery/v2/attractions/K8vZ917GF97?locale=en-us'}}}]}}]\n"
     ]
    }
   ],
   "source": [
    "geohash = \"gcpuv\"\n",
    "unit = \"km\"\n",
    "radius = 10\n",
    "genre = genre_list['country']\n",
    "\n",
    "events_both_places = {}\n",
    "\n",
    "for hash in hash_list:\n",
    "    url = f\"https://app.ticketmaster.com/discovery/v2/events.json?size=20&radius={radius}&genreId={genre}&geoPoint={hash}&classificationName=music&apikey={ticketmaster_key}\"\n",
    "\n",
    "    tm_request = urllib.request.Request(url)\n",
    "    tm_response = urllib.request.urlopen(tm_request)\n",
    "\n",
    "events_both_places = json.loads(tm_response.read())\n",
    "event_names = events_both_places['_embedded']['events']\n",
    "\n",
    "print(event_names)\n"
   ]
  },
  {
   "cell_type": "code",
   "execution_count": null,
   "id": "df049e6a",
   "metadata": {},
   "outputs": [
    {
     "name": "stdout",
     "output_type": "stream",
     "text": [
      "['KANE BROWN: THE HIGH ROAD TOUR', 'Lucinda Williams', 'Jason Isbell']\n"
     ]
    }
   ],
   "source": [
    "# if len(event_names) < 5:\n",
    "#     radius*2\n",
    "#     full_event_listings = json.loads(tm_response.read())\n",
    "\n",
    "\n",
    "artist_names = [artist['name'] for artist in event_names]\n",
    "artist_names_no_repeats = list(dict.fromkeys(artist_names))\n",
    "print(artist_names_no_repeats)"
   ]
  },
  {
   "cell_type": "code",
   "execution_count": 8,
   "id": "c205eb39",
   "metadata": {},
   "outputs": [],
   "source": [
    "cred = \"spotify_keys.json\"\n",
    "with open(cred, \"r\") as spotify_key_file:\n",
    "    api_tokens = json.load(spotify_key_file)\n",
    "\n",
    "spotify_key_file.close()\n",
    "\n",
    "client_id = api_tokens['client_id']\n",
    "client_secret = api_tokens['client_secret']\n",
    "redirectURI = api_tokens['redirect']\n",
    "username = api_tokens['username']\n",
    "\n",
    "scope = 'user-read-private user-read-playback-state user-modify-playback-state playlist-modify-public user-library-read'\n",
    "token = util.prompt_for_user_token(username, scope, client_id=client_id,\n",
    "                           client_secret=client_secret,\n",
    "                           redirect_uri=redirectURI)"
   ]
  },
  {
   "cell_type": "code",
   "execution_count": 16,
   "id": "c4cf134c",
   "metadata": {},
   "outputs": [],
   "source": [
    "sp = spotipy.Spotify(auth=token)\n",
    "\n",
    "playlist_songs = []\n",
    "\n",
    "for artist in artist_names_no_repeats:\n",
    "    returned_song = sp.search(q=artist, type=\"track\", limit=1)\n",
    "\n",
    "    if returned_song['tracks']['items'][0]['uri'] not in playlist_songs:\n",
    "        playlist_songs.append(returned_song['tracks']['items'][0]['uri'])\n",
    "\n",
    "# print(playlist_songs)\n",
    "\n",
    "empty_playlist = sp.user_playlist_create(user=username, name=f\"Journey from {address1.upper()} to {address2.upper()}\", public=True, description=f\"Artists who've played recently anywhere between {address1} and {address2}\")\n",
    "full_playlist = sp.user_playlist_add_tracks(username, empty_playlist['id'], playlist_songs)"
   ]
  },
  {
   "cell_type": "code",
   "execution_count": 15,
   "id": "7a40a875",
   "metadata": {},
   "outputs": [
    {
     "data": {
      "text/plain": [
       "True"
      ]
     },
     "execution_count": 15,
     "metadata": {},
     "output_type": "execute_result"
    }
   ],
   "source": [
    "webbrowser.open(empty_playlist['external_urls']['spotify'])"
   ]
  },
  {
   "cell_type": "code",
   "execution_count": null,
   "id": "cac9eb60",
   "metadata": {},
   "outputs": [],
   "source": []
  }
 ],
 "metadata": {
  "kernelspec": {
   "display_name": "venv",
   "language": "python",
   "name": "python3"
  },
  "language_info": {
   "codemirror_mode": {
    "name": "ipython",
    "version": 3
   },
   "file_extension": ".py",
   "mimetype": "text/x-python",
   "name": "python",
   "nbconvert_exporter": "python",
   "pygments_lexer": "ipython3",
   "version": "3.12.7"
  }
 },
 "nbformat": 4,
 "nbformat_minor": 5
}
